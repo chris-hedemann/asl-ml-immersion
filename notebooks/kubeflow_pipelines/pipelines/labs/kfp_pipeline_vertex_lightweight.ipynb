{
 "cells": [
  {
   "cell_type": "markdown",
   "metadata": {},
   "source": [
    "# Continuous Training with Kubeflow Pipeline and Vertex AI"
   ]
  },
  {
   "cell_type": "markdown",
   "metadata": {},
   "source": [
    "**Learning Objectives:**\n",
    "1. Learn how to use KF pre-built components\n",
    "1. Learn how to use KF lightweight python components\n",
    "1. Learn how to build a KF pipeline with these components\n",
    "1. Learn how to compile, upload, and run a KF pipeline\n",
    "\n",
    "\n",
    "In this lab, you will build, deploy, and run a KFP pipeline that orchestrates the **Vertex AI** services to train, tune, and deploy a **scikit-learn** model."
   ]
  },
  {
   "cell_type": "markdown",
   "metadata": {},
   "source": [
    "## Setup"
   ]
  },
  {
   "cell_type": "code",
   "execution_count": 1,
   "metadata": {},
   "outputs": [],
   "source": [
    "from google.cloud import aiplatform"
   ]
  },
  {
   "cell_type": "code",
   "execution_count": 3,
   "metadata": {},
   "outputs": [
    {
     "name": "stdout",
     "output_type": "stream",
     "text": [
      "qwiklabs-asl-00-61116abbd0d9\n"
     ]
    }
   ],
   "source": [
    "REGION = \"us-central1\"\n",
    "PROJECT_ID = !(gcloud config get-value project)\n",
    "PROJECT_ID = PROJECT_ID[0]\n",
    "print(PROJECT_ID)"
   ]
  },
  {
   "cell_type": "code",
   "execution_count": 4,
   "metadata": {
    "tags": []
   },
   "outputs": [
    {
     "name": "stdout",
     "output_type": "stream",
     "text": [
      "env: PATH=/home/jupyter/.local/bin:/usr/local/cuda/bin:/opt/conda/bin:/opt/conda/condabin:/usr/local/bin:/usr/bin:/bin:/usr/local/games:/usr/games\n"
     ]
    }
   ],
   "source": [
    "# Set `PATH` to include the directory containing KFP CLI\n",
    "PATH = %env PATH\n",
    "%env PATH=/home/jupyter/.local/bin:{PATH}"
   ]
  },
  {
   "cell_type": "markdown",
   "metadata": {},
   "source": [
    "## Understanding the pipeline design\n"
   ]
  },
  {
   "cell_type": "markdown",
   "metadata": {},
   "source": [
    "The workflow implemented by the pipeline is defined using a Python based Domain Specific Language (DSL). The pipeline's DSL is in the `pipeline_vertex/pipeline.py` file that we will generate below.\n",
    "\n",
    "The pipeline's DSL has been designed to avoid hardcoding any environment specific settings like file paths or connection strings. These settings are provided to the pipeline code through a set of environment variables.\n"
   ]
  },
  {
   "cell_type": "markdown",
   "metadata": {},
   "source": [
    "### Build the trainer image"
   ]
  },
  {
   "cell_type": "markdown",
   "metadata": {},
   "source": [
    "The training step in the pipeline will require a custom training container. The custom training image is defined in `trainer_image/Dockerfile`."
   ]
  },
  {
   "cell_type": "code",
   "execution_count": 5,
   "metadata": {},
   "outputs": [
    {
     "name": "stdout",
     "output_type": "stream",
     "text": [
      "FROM us-docker.pkg.dev/vertex-ai/training/sklearn-cpu.1-0\r\n",
      "RUN pip install -U fire cloudml-hypertune scikit-learn==1.2.2\r\n",
      "WORKDIR /app\r\n",
      "COPY train.py .\r\n",
      "\r\n",
      "ENTRYPOINT [\"python\", \"train.py\"]\r\n"
     ]
    }
   ],
   "source": [
    "!cat trainer_image_vertex/Dockerfile"
   ]
  },
  {
   "cell_type": "markdown",
   "metadata": {},
   "source": [
    "Let's now build and push this trainer container to the Artifact Registry:"
   ]
  },
  {
   "cell_type": "code",
   "execution_count": 24,
   "metadata": {},
   "outputs": [
    {
     "data": {
      "text/plain": [
       "'us-docker.pkg.dev/qwiklabs-asl-00-61116abbd0d9/asl-artifact-repo/trainer_image_covertype_vertex:latest'"
      ]
     },
     "execution_count": 24,
     "metadata": {},
     "output_type": "execute_result"
    }
   ],
   "source": [
    "ARTIFACT_REGISTRY_DIR = \"asl-artifact-repo\"\n",
    "IMAGE_NAME = \"trainer_image_covertype_vertex\"\n",
    "IMAGE_TAG = \"latest\"\n",
    "TRAINING_CONTAINER_IMAGE_URI = f\"us-docker.pkg.dev/{PROJECT_ID}/{ARTIFACT_REGISTRY_DIR}/{IMAGE_NAME}:{IMAGE_TAG}\"\n",
    "TRAINING_CONTAINER_IMAGE_URI"
   ]
  },
  {
   "cell_type": "code",
   "execution_count": 25,
   "metadata": {},
   "outputs": [
    {
     "name": "stdout",
     "output_type": "stream",
     "text": [
      "Creating temporary tarball archive of 4 file(s) totalling 6.7 KiB before compression.\n",
      "Uploading tarball of [trainer_image_vertex] to [gs://qwiklabs-asl-00-61116abbd0d9_cloudbuild/source/1713949352.191655-2fb0727c96db4e058c1f86a295432159.tgz]\n",
      "Created [https://cloudbuild.googleapis.com/v1/projects/qwiklabs-asl-00-61116abbd0d9/locations/global/builds/a2415326-4d9c-41eb-ab5c-4304e47a6917].\n",
      "Logs are available at [ https://console.cloud.google.com/cloud-build/builds/a2415326-4d9c-41eb-ab5c-4304e47a6917?project=865563922071 ].\n",
      "----------------------------- REMOTE BUILD OUTPUT ------------------------------\n",
      "starting build \"a2415326-4d9c-41eb-ab5c-4304e47a6917\"\n",
      "\n",
      "FETCHSOURCE\n",
      "Fetching storage object: gs://qwiklabs-asl-00-61116abbd0d9_cloudbuild/source/1713949352.191655-2fb0727c96db4e058c1f86a295432159.tgz#1713949352528002\n",
      "Copying gs://qwiklabs-asl-00-61116abbd0d9_cloudbuild/source/1713949352.191655-2fb0727c96db4e058c1f86a295432159.tgz#1713949352528002...\n",
      "/ [1 files][  1.8 KiB/  1.8 KiB]                                                \n",
      "Operation completed over 1 objects/1.8 KiB.\n",
      "BUILD\n",
      "Already have image (with digest): gcr.io/cloud-builders/docker\n",
      "Sending build context to Docker daemon  11.78kB\n",
      "Step 1/5 : FROM us-docker.pkg.dev/vertex-ai/training/sklearn-cpu.1-0\n",
      "latest: Pulling from vertex-ai/training/sklearn-cpu.1-0\n",
      "3153aa388d02: Pulling fs layer\n",
      "9824d45cbc78: Pulling fs layer\n",
      "a2c893dfdd76: Pulling fs layer\n",
      "3fc58b7cea6b: Pulling fs layer\n",
      "065e5d8a1c31: Pulling fs layer\n",
      "3b608554e986: Pulling fs layer\n",
      "c3fb815e9074: Pulling fs layer\n",
      "22edc53d84f1: Pulling fs layer\n",
      "fa13d373537f: Pulling fs layer\n",
      "1ff377ed9aa4: Pulling fs layer\n",
      "2854f30de59f: Pulling fs layer\n",
      "5883a3d3350c: Pulling fs layer\n",
      "b9f16134ecfb: Pulling fs layer\n",
      "739cdac78559: Pulling fs layer\n",
      "482590cd5c44: Pulling fs layer\n",
      "fcd7dfefd59a: Pulling fs layer\n",
      "d7818bca27c1: Pulling fs layer\n",
      "af8e5ef74ae3: Pulling fs layer\n",
      "ee71ca03e59f: Pulling fs layer\n",
      "b531e85b45eb: Pulling fs layer\n",
      "aa0eae780ea1: Pulling fs layer\n",
      "caeb9ac3c484: Pulling fs layer\n",
      "3fc58b7cea6b: Waiting\n",
      "065e5d8a1c31: Waiting\n",
      "3b608554e986: Waiting\n",
      "c3fb815e9074: Waiting\n",
      "22edc53d84f1: Waiting\n",
      "fa13d373537f: Waiting\n",
      "1ff377ed9aa4: Waiting\n",
      "2854f30de59f: Waiting\n",
      "5883a3d3350c: Waiting\n",
      "b9f16134ecfb: Waiting\n",
      "739cdac78559: Waiting\n",
      "482590cd5c44: Waiting\n",
      "fcd7dfefd59a: Waiting\n",
      "d7818bca27c1: Waiting\n",
      "af8e5ef74ae3: Waiting\n",
      "ee71ca03e59f: Waiting\n",
      "b531e85b45eb: Waiting\n",
      "aa0eae780ea1: Waiting\n",
      "caeb9ac3c484: Waiting\n",
      "9824d45cbc78: Verifying Checksum\n",
      "9824d45cbc78: Download complete\n",
      "a2c893dfdd76: Verifying Checksum\n",
      "a2c893dfdd76: Download complete\n",
      "3153aa388d02: Verifying Checksum\n",
      "3153aa388d02: Download complete\n",
      "065e5d8a1c31: Verifying Checksum\n",
      "065e5d8a1c31: Download complete\n",
      "c3fb815e9074: Verifying Checksum\n",
      "c3fb815e9074: Download complete\n",
      "3fc58b7cea6b: Verifying Checksum\n",
      "3fc58b7cea6b: Download complete\n",
      "3b608554e986: Verifying Checksum\n",
      "3b608554e986: Download complete\n",
      "22edc53d84f1: Verifying Checksum\n",
      "22edc53d84f1: Download complete\n",
      "2854f30de59f: Verifying Checksum\n",
      "2854f30de59f: Download complete\n",
      "1ff377ed9aa4: Download complete\n",
      "5883a3d3350c: Verifying Checksum\n",
      "5883a3d3350c: Download complete\n",
      "3153aa388d02: Pull complete\n",
      "9824d45cbc78: Pull complete\n",
      "739cdac78559: Download complete\n",
      "a2c893dfdd76: Pull complete\n",
      "b9f16134ecfb: Verifying Checksum\n",
      "b9f16134ecfb: Download complete\n",
      "fcd7dfefd59a: Verifying Checksum\n",
      "fcd7dfefd59a: Download complete\n",
      "d7818bca27c1: Verifying Checksum\n",
      "d7818bca27c1: Download complete\n",
      "af8e5ef74ae3: Verifying Checksum\n",
      "af8e5ef74ae3: Download complete\n",
      "ee71ca03e59f: Verifying Checksum\n",
      "ee71ca03e59f: Download complete\n",
      "b531e85b45eb: Verifying Checksum\n",
      "b531e85b45eb: Download complete\n",
      "aa0eae780ea1: Verifying Checksum\n",
      "aa0eae780ea1: Download complete\n",
      "caeb9ac3c484: Verifying Checksum\n",
      "caeb9ac3c484: Download complete\n",
      "482590cd5c44: Verifying Checksum\n",
      "482590cd5c44: Download complete\n",
      "fa13d373537f: Verifying Checksum\n",
      "fa13d373537f: Download complete\n",
      "3fc58b7cea6b: Pull complete\n",
      "065e5d8a1c31: Pull complete\n",
      "3b608554e986: Pull complete\n",
      "c3fb815e9074: Pull complete\n",
      "22edc53d84f1: Pull complete\n",
      "fa13d373537f: Pull complete\n",
      "1ff377ed9aa4: Pull complete\n",
      "2854f30de59f: Pull complete\n",
      "5883a3d3350c: Pull complete\n",
      "b9f16134ecfb: Pull complete\n",
      "739cdac78559: Pull complete\n",
      "482590cd5c44: Pull complete\n",
      "fcd7dfefd59a: Pull complete\n",
      "d7818bca27c1: Pull complete\n",
      "af8e5ef74ae3: Pull complete\n",
      "ee71ca03e59f: Pull complete\n",
      "b531e85b45eb: Pull complete\n",
      "aa0eae780ea1: Pull complete\n",
      "caeb9ac3c484: Pull complete\n",
      "Digest: sha256:c1bc11aed8635650a6a1a1aebe7cabae3b2019c6e08f7aabf3d395b73442ba4f\n",
      "Status: Downloaded newer image for us-docker.pkg.dev/vertex-ai/training/sklearn-cpu.1-0:latest\n",
      " ---> 57d74f998f2a\n",
      "Step 2/5 : RUN pip install -U fire cloudml-hypertune scikit-learn==1.2.2\n",
      " ---> Running in 6251ad700c8d\n",
      "Collecting fire\n",
      "  Downloading fire-0.6.0.tar.gz (88 kB)\n",
      "     ━━━━━━━━━━━━━━━━━━━━━━━━━━━━━━━━━━━━━━━━ 88.4/88.4 kB 4.8 MB/s eta 0:00:00\n",
      "  Preparing metadata (setup.py): started\n",
      "  Preparing metadata (setup.py): finished with status 'done'\n",
      "Requirement already satisfied: cloudml-hypertune in /opt/conda/lib/python3.10/site-packages (0.1.0.dev6)\n",
      "Collecting scikit-learn==1.2.2\n",
      "  Obtaining dependency information for scikit-learn==1.2.2 from https://files.pythonhosted.org/packages/fa/1e/36d7609e84b50d4a2e5bc43cd5013d9ea885799e5813a1e9cf5bb1afd3f4/scikit_learn-1.2.2-cp310-cp310-manylinux_2_17_x86_64.manylinux2014_x86_64.whl.metadata\n",
      "  Downloading scikit_learn-1.2.2-cp310-cp310-manylinux_2_17_x86_64.manylinux2014_x86_64.whl.metadata (11 kB)\n",
      "Requirement already satisfied: numpy>=1.17.3 in /opt/conda/lib/python3.10/site-packages (from scikit-learn==1.2.2) (1.25.1)\n",
      "Requirement already satisfied: scipy>=1.3.2 in /opt/conda/lib/python3.10/site-packages (from scikit-learn==1.2.2) (1.11.1)\n",
      "Requirement already satisfied: joblib>=1.1.1 in /opt/conda/lib/python3.10/site-packages (from scikit-learn==1.2.2) (1.3.1)\n",
      "Requirement already satisfied: threadpoolctl>=2.0.0 in /opt/conda/lib/python3.10/site-packages (from scikit-learn==1.2.2) (3.2.0)\n",
      "Requirement already satisfied: six in /opt/conda/lib/python3.10/site-packages (from fire) (1.16.0)\n",
      "Requirement already satisfied: termcolor in /opt/conda/lib/python3.10/site-packages (from fire) (2.3.0)\n",
      "Downloading scikit_learn-1.2.2-cp310-cp310-manylinux_2_17_x86_64.manylinux2014_x86_64.whl (9.6 MB)\n",
      "   ━━━━━━━━━━━━━━━━━━━━━━━━━━━━━━━━━━━━━━━━ 9.6/9.6 MB 78.3 MB/s eta 0:00:00\n",
      "Building wheels for collected packages: fire\n",
      "  Building wheel for fire (setup.py): started\n",
      "  Building wheel for fire (setup.py): finished with status 'done'\n",
      "  Created wheel for fire: filename=fire-0.6.0-py2.py3-none-any.whl size=117031 sha256=dc3198266069837d342d0accc148628a163b5f7a02835bafa97c3d2d2de605fd\n",
      "  Stored in directory: /root/.cache/pip/wheels/d6/6d/5d/5b73fa0f46d01a793713f8859201361e9e581ced8c75e5c6a3\n",
      "Successfully built fire\n",
      "Installing collected packages: fire, scikit-learn\n",
      "  Attempting uninstall: scikit-learn\n",
      "    Found existing installation: scikit-learn 1.0.2\n",
      "    Uninstalling scikit-learn-1.0.2:\n",
      "      Successfully uninstalled scikit-learn-1.0.2\n",
      "Successfully installed fire-0.6.0 scikit-learn-1.2.2\n",
      "\u001b[91mWARNING: Running pip as the 'root' user can result in broken permissions and conflicting behaviour with the system package manager. It is recommended to use a virtual environment instead: https://pip.pypa.io/warnings/venv\n",
      "\u001b[0mRemoving intermediate container 6251ad700c8d\n",
      " ---> ba298ef53a60\n",
      "Step 3/5 : WORKDIR /app\n",
      " ---> Running in fdb496c411cf\n",
      "Removing intermediate container fdb496c411cf\n",
      " ---> 7fb83861224b\n",
      "Step 4/5 : COPY train.py .\n",
      " ---> 75d1769f4fdb\n",
      "Step 5/5 : ENTRYPOINT [\"python\", \"train.py\"]\n",
      " ---> Running in 631de7f52d3d\n",
      "Removing intermediate container 631de7f52d3d\n",
      " ---> b6c30c26111a\n",
      "Successfully built b6c30c26111a\n",
      "Successfully tagged us-docker.pkg.dev/qwiklabs-asl-00-61116abbd0d9/asl-artifact-repo/trainer_image_covertype_vertex:latest\n",
      "PUSH\n",
      "Pushing us-docker.pkg.dev/qwiklabs-asl-00-61116abbd0d9/asl-artifact-repo/trainer_image_covertype_vertex:latest\n",
      "The push refers to repository [us-docker.pkg.dev/qwiklabs-asl-00-61116abbd0d9/asl-artifact-repo/trainer_image_covertype_vertex]\n",
      "5264b7f0dcec: Preparing\n",
      "0909f4b4e076: Preparing\n",
      "559421adb1cd: Preparing\n",
      "e42695c7b436: Preparing\n",
      "e42695c7b436: Preparing\n",
      "7e34967c8575: Preparing\n",
      "685157cbfd1c: Preparing\n",
      "b3f395f9c6db: Preparing\n",
      "1335b11763b0: Preparing\n",
      "1335b11763b0: Preparing\n",
      "ff1b3a6f8e32: Preparing\n",
      "a4f92d8c3713: Preparing\n",
      "91315c4af0d6: Preparing\n",
      "f52f425121a7: Preparing\n",
      "76305005ccce: Preparing\n",
      "9c8c4140a22f: Preparing\n",
      "cb24f57d328e: Preparing\n",
      "cb24f57d328e: Preparing\n",
      "e9ac191ee4d5: Preparing\n",
      "e366492c2e8f: Preparing\n",
      "b3b47f6e19c9: Preparing\n",
      "9fc6ad9fa2bc: Preparing\n",
      "926e17c0ab1b: Preparing\n",
      "299edaab5a5d: Preparing\n",
      "662e1ac55b04: Preparing\n",
      "a1741b153e96: Preparing\n",
      "a8bc7d9be9d9: Preparing\n",
      "59c56aee1fb4: Preparing\n",
      "685157cbfd1c: Waiting\n",
      "b3f395f9c6db: Waiting\n",
      "1335b11763b0: Waiting\n",
      "ff1b3a6f8e32: Waiting\n",
      "a4f92d8c3713: Waiting\n",
      "91315c4af0d6: Waiting\n",
      "f52f425121a7: Waiting\n",
      "76305005ccce: Waiting\n",
      "9c8c4140a22f: Waiting\n",
      "cb24f57d328e: Waiting\n",
      "e9ac191ee4d5: Waiting\n",
      "e366492c2e8f: Waiting\n",
      "b3b47f6e19c9: Waiting\n",
      "9fc6ad9fa2bc: Waiting\n",
      "926e17c0ab1b: Waiting\n",
      "299edaab5a5d: Waiting\n",
      "662e1ac55b04: Waiting\n",
      "a1741b153e96: Waiting\n",
      "a8bc7d9be9d9: Waiting\n",
      "59c56aee1fb4: Waiting\n",
      "7e34967c8575: Layer already exists\n",
      "685157cbfd1c: Layer already exists\n",
      "e42695c7b436: Layer already exists\n",
      "b3f395f9c6db: Layer already exists\n",
      "1335b11763b0: Layer already exists\n",
      "ff1b3a6f8e32: Layer already exists\n",
      "0909f4b4e076: Pushed\n",
      "f52f425121a7: Layer already exists\n",
      "a4f92d8c3713: Layer already exists\n",
      "9c8c4140a22f: Layer already exists\n",
      "91315c4af0d6: Layer already exists\n",
      "5264b7f0dcec: Pushed\n",
      "76305005ccce: Layer already exists\n",
      "cb24f57d328e: Layer already exists\n",
      "e9ac191ee4d5: Layer already exists\n",
      "e366492c2e8f: Layer already exists\n",
      "b3b47f6e19c9: Layer already exists\n",
      "299edaab5a5d: Layer already exists\n",
      "9fc6ad9fa2bc: Layer already exists\n",
      "662e1ac55b04: Layer already exists\n"
     ]
    },
    {
     "name": "stdout",
     "output_type": "stream",
     "text": [
      "926e17c0ab1b: Layer already exists\n",
      "a1741b153e96: Layer already exists\n",
      "a8bc7d9be9d9: Layer already exists\n",
      "59c56aee1fb4: Layer already exists\n",
      "559421adb1cd: Pushed\n",
      "latest: digest: sha256:d1bbbb141db1b84afe205eac84721bc3380ef3a0f8d7bdce0f1798f20ccf2062 size: 6171\n",
      "DONE\n",
      "--------------------------------------------------------------------------------\n",
      "ID                                    CREATE_TIME                DURATION  SOURCE                                                                                                      IMAGES                                                                                                     STATUS\n",
      "a2415326-4d9c-41eb-ab5c-4304e47a6917  2024-04-24T09:02:32+00:00  2M22S     gs://qwiklabs-asl-00-61116abbd0d9_cloudbuild/source/1713949352.191655-2fb0727c96db4e058c1f86a295432159.tgz  us-docker.pkg.dev/qwiklabs-asl-00-61116abbd0d9/asl-artifact-repo/trainer_image_covertype_vertex (+1 more)  SUCCESS\n"
     ]
    }
   ],
   "source": [
    "!gcloud builds submit --timeout 15m --tag $TRAINING_CONTAINER_IMAGE_URI trainer_image_vertex"
   ]
  },
  {
   "cell_type": "markdown",
   "metadata": {},
   "source": [
    "To match the ml framework version we use at training time while serving the model, we will have to supply the following serving container to the pipeline:"
   ]
  },
  {
   "cell_type": "code",
   "execution_count": 26,
   "metadata": {},
   "outputs": [],
   "source": [
    "SERVING_CONTAINER_IMAGE_URI = (\n",
    "    \"us-docker.pkg.dev/vertex-ai/prediction/sklearn-cpu.1-0:latest\"\n",
    ")"
   ]
  },
  {
   "cell_type": "markdown",
   "metadata": {},
   "source": [
    "**Note:** If you change the version of the training ml framework you'll have to supply a serving container with matchin version (see [pre-built containers for prediction](https://cloud.google.com/vertex-ai/docs/predictions/pre-built-containers))."
   ]
  },
  {
   "cell_type": "markdown",
   "metadata": {},
   "source": [
    "## Building and deploying the pipeline"
   ]
  },
  {
   "cell_type": "markdown",
   "metadata": {},
   "source": [
    "Let us write the pipeline to disk:"
   ]
  },
  {
   "cell_type": "markdown",
   "metadata": {},
   "source": [
    "### Exercise\n",
    "\n",
    "Implement\n",
    "\n",
    "1. the `train_and_deploy` function in the `pipeline_vertex/training_lightweight_component.py`\n",
    "1. the `tune_hyperparameters` function in the `pipeline_vertex/tuning_lightweight_component.py`\n",
    "\n",
    "and complete the TODOs in the `pipeline.py` file below:"
   ]
  },
  {
   "cell_type": "code",
   "execution_count": 27,
   "metadata": {},
   "outputs": [
    {
     "name": "stdout",
     "output_type": "stream",
     "text": [
      "Overwriting ./pipeline_vertex/pipeline.py\n"
     ]
    }
   ],
   "source": [
    "%%writefile ./pipeline_vertex/pipeline.py\n",
    "# Copyright 2021 Google LLC\n",
    "\n",
    "# Licensed under the Apache License, Version 2.0 (the \"License\"); you may not use this\n",
    "# file except in compliance with the License. You may obtain a copy of the License at\n",
    "\n",
    "# https://www.apache.org/licenses/LICENSE-2.0\n",
    "\n",
    "# Unless required by applicable law or agreed to in writing, software\n",
    "# distributed under the License is distributed on an \"AS IS\"\n",
    "# BASIS, WITHOUT WARRANTIES OR CONDITIONS OF ANY KIND, either\n",
    "# express or implied. See the License for the specific language governing\n",
    "# permissions and limitations under the License.\n",
    "\"\"\"Kubeflow Covertype Pipeline.\"\"\"\n",
    "import os\n",
    "\n",
    "from kfp import dsl\n",
    "from training_lightweight_component import train_and_deploy\n",
    "from tuning_lightweight_component import tune_hyperparameters\n",
    "\n",
    "PIPELINE_ROOT = os.getenv(\"PIPELINE_ROOT\")\n",
    "PROJECT_ID = os.getenv(\"PROJECT_ID\")\n",
    "REGION = os.getenv(\"REGION\")\n",
    "\n",
    "TRAINING_CONTAINER_IMAGE_URI = os.getenv(\"TRAINING_CONTAINER_IMAGE_URI\")\n",
    "SERVING_CONTAINER_IMAGE_URI = os.getenv(\"SERVING_CONTAINER_IMAGE_URI\")\n",
    "\n",
    "TRAINING_FILE_PATH = os.getenv(\"TRAINING_FILE_PATH\")\n",
    "VALIDATION_FILE_PATH = os.getenv(\"VALIDATION_FILE_PATH\")\n",
    "\n",
    "MAX_TRIAL_COUNT = int(os.getenv(\"MAX_TRIAL_COUNT\", \"5\"))\n",
    "PARALLEL_TRIAL_COUNT = int(os.getenv(\"PARALLEL_TRIAL_COUNT\", \"5\"))\n",
    "THRESHOLD = float(os.getenv(\"THRESHOLD\", \"0.6\"))\n",
    "\n",
    "\n",
    "@dsl.pipeline(\n",
    "    name=\"covertype-kfp-pipeline\",\n",
    "    description=\"The pipeline training and deploying the Covertype classifier\",\n",
    "    pipeline_root=PIPELINE_ROOT,\n",
    ")\n",
    "def covertype_train(\n",
    "    training_container_uri: str = TRAINING_CONTAINER_IMAGE_URI,\n",
    "    serving_container_uri: str = SERVING_CONTAINER_IMAGE_URI,\n",
    "    training_file_path: str = TRAINING_FILE_PATH,\n",
    "    validation_file_path: str = VALIDATION_FILE_PATH,\n",
    "    accuracy_deployment_threshold: float = THRESHOLD,\n",
    "    max_trial_count: int = MAX_TRIAL_COUNT,\n",
    "    parallel_trial_count: int = PARALLEL_TRIAL_COUNT,\n",
    "    pipeline_root: str = PIPELINE_ROOT,\n",
    "):\n",
    "    staging_bucket = f\"{pipeline_root}/staging\"\n",
    "\n",
    "    tuning_op =  tune_hyperparameters(\n",
    "        project=PROJECT_ID,\n",
    "        location=REGION,\n",
    "        container_uri=training_container_uri,\n",
    "        training_file_path=training_file_path,\n",
    "        validation_file_path=validation_file_path,\n",
    "        staging_bucket=staging_bucket,\n",
    "        max_trial_count=max_trial_count,\n",
    "        parallel_trial_count=parallel_trial_count,\n",
    "    )\n",
    "\n",
    "    accuracy = tuning_op.outputs[\"best_accuracy\"]\n",
    "\n",
    "    with dsl.Condition(\n",
    "        accuracy >= accuracy_deployment_threshold, name=\"deploy_decision\"\n",
    "    ):\n",
    "        train_and_deploy_op = train_and_deploy(\n",
    "            project=PROJECT_ID,\n",
    "            location=REGION,\n",
    "            container_uri=training_container_uri,\n",
    "            serving_container_uri=serving_container_uri,\n",
    "            training_file_path=training_file_path,\n",
    "            validation_file_path=validation_file_path,\n",
    "            staging_bucket=staging_bucket,\n",
    "            alpha=tuning_op.outputs[\"best_alpha\"],\n",
    "            max_iter=tuning_op.outputs[\"best_max_iter\"],\n",
    "        )\n",
    "        "
   ]
  },
  {
   "cell_type": "markdown",
   "metadata": {},
   "source": [
    "### Compile the pipeline"
   ]
  },
  {
   "cell_type": "markdown",
   "metadata": {},
   "source": [
    "Let stat by defining the environment variables that will be passed to the pipeline compiler:"
   ]
  },
  {
   "cell_type": "code",
   "execution_count": 28,
   "metadata": {},
   "outputs": [
    {
     "name": "stdout",
     "output_type": "stream",
     "text": [
      "env: PIPELINE_ROOT=gs://qwiklabs-asl-00-61116abbd0d9-kfp-artifact-store/pipeline\n",
      "env: PROJECT_ID=qwiklabs-asl-00-61116abbd0d9\n",
      "env: REGION=us-central1\n",
      "env: SERVING_CONTAINER_IMAGE_URI=us-docker.pkg.dev/vertex-ai/prediction/sklearn-cpu.1-0:latest\n",
      "env: TRAINING_CONTAINER_IMAGE_URI=us-docker.pkg.dev/qwiklabs-asl-00-61116abbd0d9/asl-artifact-repo/trainer_image_covertype_vertex:latest\n",
      "env: TRAINING_FILE_PATH=gs://qwiklabs-asl-00-61116abbd0d9-kfp-artifact-store/data/training/dataset.csv\n",
      "env: VALIDATION_FILE_PATH=gs://qwiklabs-asl-00-61116abbd0d9-kfp-artifact-store/data/validation/dataset.csv\n"
     ]
    }
   ],
   "source": [
    "ARTIFACT_STORE = f\"gs://{PROJECT_ID}-kfp-artifact-store\"\n",
    "PIPELINE_ROOT = f\"{ARTIFACT_STORE}/pipeline\"\n",
    "DATA_ROOT = f\"{ARTIFACT_STORE}/data\"\n",
    "\n",
    "TRAINING_FILE_PATH = f\"{DATA_ROOT}/training/dataset.csv\"\n",
    "VALIDATION_FILE_PATH = f\"{DATA_ROOT}/validation/dataset.csv\"\n",
    "\n",
    "%env PIPELINE_ROOT={PIPELINE_ROOT}\n",
    "%env PROJECT_ID={PROJECT_ID}\n",
    "%env REGION={REGION}\n",
    "%env SERVING_CONTAINER_IMAGE_URI={SERVING_CONTAINER_IMAGE_URI}\n",
    "%env TRAINING_CONTAINER_IMAGE_URI={TRAINING_CONTAINER_IMAGE_URI}\n",
    "%env TRAINING_FILE_PATH={TRAINING_FILE_PATH}\n",
    "%env VALIDATION_FILE_PATH={VALIDATION_FILE_PATH}"
   ]
  },
  {
   "cell_type": "markdown",
   "metadata": {},
   "source": [
    "Let us make sure that the `ARTIFACT_STORE` has been created, and let us create it if not:"
   ]
  },
  {
   "cell_type": "code",
   "execution_count": 29,
   "metadata": {},
   "outputs": [
    {
     "name": "stdout",
     "output_type": "stream",
     "text": [
      "gs://qwiklabs-asl-00-61116abbd0d9-kfp-artifact-store/\r\n"
     ]
    }
   ],
   "source": [
    "!gsutil ls | grep ^{ARTIFACT_STORE}/$ || gsutil mb -l {REGION} {ARTIFACT_STORE}"
   ]
  },
  {
   "cell_type": "markdown",
   "metadata": {},
   "source": [
    "**Note:** In case the artifact store was not created and properly set before hand, you may need\n",
    "to run in **CloudShell** the following command to allow Vertex AI to access it:\n",
    "\n",
    "```\n",
    "PROJECT_ID=$(gcloud config get-value project)\n",
    "PROJECT_NUMBER=$(gcloud projects list --filter=\"name=$PROJECT_ID\" --format=\"value(PROJECT_NUMBER)\")\n",
    "gcloud projects add-iam-policy-binding $PROJECT_ID \\\n",
    "    --member=\"serviceAccount:$PROJECT_NUMBER-compute@developer.gserviceaccount.com\" \\\n",
    "    --role=\"roles/storage.objectAdmin\"\n",
    "```"
   ]
  },
  {
   "cell_type": "markdown",
   "metadata": {},
   "source": [
    "#### Use the CLI compiler to compile the pipeline"
   ]
  },
  {
   "cell_type": "markdown",
   "metadata": {},
   "source": [
    "We compile the pipeline from the Python file we generated into a YAML description using the following command:"
   ]
  },
  {
   "cell_type": "code",
   "execution_count": 30,
   "metadata": {},
   "outputs": [],
   "source": [
    "PIPELINE_YAML = \"covertype_kfp_pipeline.yaml\""
   ]
  },
  {
   "cell_type": "markdown",
   "metadata": {},
   "source": [
    "### Exercise\n",
    "\n",
    "Compile the `pipeline_vertex/pipeline.py` with the `kfp dsl compile` command line:"
   ]
  },
  {
   "cell_type": "code",
   "execution_count": 34,
   "metadata": {},
   "outputs": [
    {
     "name": "stdout",
     "output_type": "stream",
     "text": [
      "/home/jupyter/asl-ml-immersion/notebooks/kubeflow_pipelines/pipelines/labs/covertype_kfp_pipeline.yaml\r\n"
     ]
    }
   ],
   "source": [
    "!kfp dsl compile --py ./pipeline_vertex/pipeline.py --output $PIPELINE_YAML"
   ]
  },
  {
   "cell_type": "markdown",
   "metadata": {},
   "source": [
    "**Note:** You can also use the Python SDK to compile the pipeline from its python function\n",
    "\n",
    "```python\n",
    "compiler.Compiler().compile(\n",
    "    pipeline_func=covertype_train, \n",
    "    package_path=PIPELINE_YAML,\n",
    ")\n",
    "\n",
    "```"
   ]
  },
  {
   "cell_type": "markdown",
   "metadata": {},
   "source": [
    "The result is the pipeline file. "
   ]
  },
  {
   "cell_type": "code",
   "execution_count": 32,
   "metadata": {},
   "outputs": [
    {
     "name": "stdout",
     "output_type": "stream",
     "text": [
      "# PIPELINE DEFINITION\r\n",
      "# Name: covertype-kfp-pipeline\r\n",
      "# Description: The pipeline training and deploying the Covertype classifier\r\n",
      "# Inputs:\r\n",
      "#    accuracy_deployment_threshold: float [Default: 0.6]\r\n",
      "#    max_trial_count: int [Default: 5.0]\r\n",
      "#    parallel_trial_count: int [Default: 5.0]\r\n",
      "#    pipeline_root: str [Default: 'gs://qwiklabs-asl-00-61116abbd0d9-kfp-artifact-store/pipeline']\r\n",
      "#    serving_container_uri: str [Default: 'us-docker.pkg.dev/vertex-ai/prediction/sklearn-cpu.1-0:latest']\r\n",
      "#    training_container_uri: str [Default: 'us-docker.pkg.dev/qwiklabs-asl-00-61116abbd0d9/asl-artifact-repo/trainer_image_covertype_vertex:latest']\r\n"
     ]
    }
   ],
   "source": [
    "!head {PIPELINE_YAML}"
   ]
  },
  {
   "cell_type": "markdown",
   "metadata": {},
   "source": [
    "### Deploy the pipeline package"
   ]
  },
  {
   "cell_type": "markdown",
   "metadata": {},
   "source": [
    "### Exercise\n",
    "\n",
    "Upload and run the pipeline to Vertex AI using `aiplatform.PipelineJob`:"
   ]
  },
  {
   "cell_type": "code",
   "execution_count": null,
   "metadata": {},
   "outputs": [
    {
     "name": "stdout",
     "output_type": "stream",
     "text": [
      "Creating PipelineJob\n",
      "PipelineJob created. Resource name: projects/865563922071/locations/us-central1/pipelineJobs/covertype-kfp-pipeline-20240424091545\n",
      "To use this PipelineJob in another session:\n",
      "pipeline_job = aiplatform.PipelineJob.get('projects/865563922071/locations/us-central1/pipelineJobs/covertype-kfp-pipeline-20240424091545')\n",
      "View Pipeline Job:\n",
      "https://console.cloud.google.com/vertex-ai/locations/us-central1/pipelines/runs/covertype-kfp-pipeline-20240424091545?project=865563922071\n",
      "PipelineJob projects/865563922071/locations/us-central1/pipelineJobs/covertype-kfp-pipeline-20240424091545 current state:\n",
      "PipelineState.PIPELINE_STATE_RUNNING\n",
      "PipelineJob projects/865563922071/locations/us-central1/pipelineJobs/covertype-kfp-pipeline-20240424091545 current state:\n",
      "PipelineState.PIPELINE_STATE_RUNNING\n",
      "PipelineJob projects/865563922071/locations/us-central1/pipelineJobs/covertype-kfp-pipeline-20240424091545 current state:\n",
      "PipelineState.PIPELINE_STATE_RUNNING\n",
      "PipelineJob projects/865563922071/locations/us-central1/pipelineJobs/covertype-kfp-pipeline-20240424091545 current state:\n",
      "PipelineState.PIPELINE_STATE_RUNNING\n",
      "PipelineJob projects/865563922071/locations/us-central1/pipelineJobs/covertype-kfp-pipeline-20240424091545 current state:\n",
      "PipelineState.PIPELINE_STATE_RUNNING\n",
      "PipelineJob projects/865563922071/locations/us-central1/pipelineJobs/covertype-kfp-pipeline-20240424091545 current state:\n",
      "PipelineState.PIPELINE_STATE_RUNNING\n",
      "PipelineJob projects/865563922071/locations/us-central1/pipelineJobs/covertype-kfp-pipeline-20240424091545 current state:\n",
      "PipelineState.PIPELINE_STATE_RUNNING\n"
     ]
    }
   ],
   "source": [
    "aiplatform.init(project=PROJECT_ID, location=REGION)\n",
    "\n",
    "pipeline = aiplatform.PipelineJob(\n",
    "    display_name=\"covertype_kfp_pipeline\",\n",
    "    template_path=PIPELINE_YAML,\n",
    "    enable_caching=False,\n",
    ")\n",
    "\n",
    "pipeline.run()"
   ]
  },
  {
   "cell_type": "markdown",
   "metadata": {},
   "source": [
    "### (Optional) Compile the custom components\n",
    "If you want to easily reuse your custom components in other pipelines, consider compiling them into YAML format. <br>\n",
    "Be aware that component YAML and pipeline YAML represent distinct objects."
   ]
  },
  {
   "cell_type": "code",
   "execution_count": null,
   "metadata": {},
   "outputs": [],
   "source": [
    "from kfp import compiler, components\n",
    "from pipeline_vertex.training_lightweight_component import train_and_deploy\n",
    "from pipeline_vertex.tuning_lightweight_component import tune_hyperparameters\n",
    "\n",
    "compiler.Compiler().compile(\n",
    "    train_and_deploy, \"covertype_kfp_train_and_deploy.yaml\"\n",
    ")\n",
    "compiler.Compiler().compile(\n",
    "    tune_hyperparameters, \"covertype_kfp_tune_hyperparameters.yaml\"\n",
    ")"
   ]
  },
  {
   "cell_type": "markdown",
   "metadata": {},
   "source": [
    "To reuse a compiled component in another pipeline, easily load it using `kfp.components.load_component_from_file(<YAML PATH>)`."
   ]
  },
  {
   "cell_type": "code",
   "execution_count": null,
   "metadata": {},
   "outputs": [],
   "source": [
    "custom_component = components.load_component_from_file(\n",
    "    \"covertype_kfp_train_and_deploy.yaml\"\n",
    ")"
   ]
  },
  {
   "cell_type": "markdown",
   "metadata": {},
   "source": [
    "Copyright 2021 Google LLC\n",
    "\n",
    "Licensed under the Apache License, Version 2.0 (the \"License\");\n",
    "you may not use this file except in compliance with the License.\n",
    "You may obtain a copy of the License at\n",
    "\n",
    "    https://www.apache.org/licenses/LICENSE-2.0\n",
    "\n",
    "Unless required by applicable law or agreed to in writing, software\n",
    "distributed under the License is distributed on an \"AS IS\" BASIS,\n",
    "WITHOUT WARRANTIES OR CONDITIONS OF ANY KIND, either express or implied.\n",
    "See the License for the specific language governing permissions and\n",
    "limitations under the License."
   ]
  }
 ],
 "metadata": {
  "environment": {
   "kernel": "python3",
   "name": "tf2-gpu.2-12.m119",
   "type": "gcloud",
   "uri": "us-docker.pkg.dev/deeplearning-platform-release/gcr.io/tf2-gpu.2-12:m119"
  },
  "kernelspec": {
   "display_name": "Python 3 (Local)",
   "language": "python",
   "name": "python3"
  },
  "language_info": {
   "codemirror_mode": {
    "name": "ipython",
    "version": 3
   },
   "file_extension": ".py",
   "mimetype": "text/x-python",
   "name": "python",
   "nbconvert_exporter": "python",
   "pygments_lexer": "ipython3",
   "version": "3.10.14"
  }
 },
 "nbformat": 4,
 "nbformat_minor": 4
}
